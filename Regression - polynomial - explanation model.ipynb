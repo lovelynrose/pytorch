{
 "cells": [
  {
   "cell_type": "code",
   "execution_count": 29,
   "id": "3e731c52",
   "metadata": {},
   "outputs": [],
   "source": [
    "import torch\n",
    "import math"
   ]
  },
  {
   "cell_type": "code",
   "execution_count": 30,
   "id": "56745f08",
   "metadata": {},
   "outputs": [
    {
     "name": "stdout",
     "output_type": "stream",
     "text": [
      "tensor([-3.1416, -3.1384, -3.1353,  ...,  3.1353,  3.1384,  3.1416]) tensor([ 8.7423e-08, -3.1430e-03, -6.2863e-03,  ...,  6.2863e-03,\n",
      "         3.1432e-03, -8.7423e-08])\n"
     ]
    }
   ],
   "source": [
    "x = torch.linspace(-math.pi, math.pi, 2000, dtype = torch.float32, device = \"cpu\")\n",
    "y = torch.sin(x)\n",
    "print(x,y)"
   ]
  },
  {
   "cell_type": "code",
   "execution_count": 31,
   "id": "325fd47e",
   "metadata": {},
   "outputs": [
    {
     "name": "stdout",
     "output_type": "stream",
     "text": [
      "torch.Size([2000, 1]) torch.Size([2000])\n",
      "torch.Size([2000, 1]) torch.Size([2000])\n"
     ]
    }
   ],
   "source": [
    "x_train = x.reshape(-1,1)\n",
    "y_train = torch.reshape(y,(-1,1))\n",
    "print(x_train.shape, x.shape)\n",
    "print(y_train.shape, y.shape)"
   ]
  },
  {
   "cell_type": "code",
   "execution_count": 65,
   "id": "0f613c5e",
   "metadata": {},
   "outputs": [
    {
     "name": "stdout",
     "output_type": "stream",
     "text": [
      "SimpleAnn(\n",
      "  (hiddenL): Linear(in_features=1, out_features=5, bias=True)\n",
      "  (outputL): Linear(in_features=5, out_features=1, bias=True)\n",
      ")\n"
     ]
    }
   ],
   "source": [
    "hidden_nodes = 5\n",
    "class SimpleAnn(torch.nn.Module):\n",
    "    \n",
    "    def __init__(self):\n",
    "        super().__init__()\n",
    "        self.hiddenL = torch.nn.Linear(1,hidden_nodes)\n",
    "        self.outputL = torch.nn.Linear(hidden_nodes,1)\n",
    "    \n",
    "    def forward(self,x):\n",
    "        l1 = self.hiddenL(x)\n",
    "        print(\"\\n***Net Input of Hidden Layer****\\n\",l1)\n",
    "        print(\"Size : \",l1.shape)\n",
    "        h1 = torch.relu(l1)\n",
    "        print(\"\\n***Hidden Layer Output****\\n\",h1)\n",
    "        print(\"Size : \",h1.shape)\n",
    "        l2 = self.outputL(h1)\n",
    "        print(\"\\n\\n***Predicted Value****\\n\",l2)\n",
    "        print(\"Size : \",l2.shape)\n",
    "        return l2\n",
    "        \n",
    "model = SimpleAnn()\n",
    "print(model)"
   ]
  },
  {
   "cell_type": "code",
   "execution_count": 66,
   "id": "96af073a",
   "metadata": {},
   "outputs": [],
   "source": [
    "criterion = torch.nn.MSELoss()\n",
    "optimizer = torch.optim.SGD(model.parameters(), lr=10e-2)\n",
    "epochs = 1"
   ]
  },
  {
   "cell_type": "code",
   "execution_count": 71,
   "id": "bdee86df",
   "metadata": {},
   "outputs": [
    {
     "name": "stdout",
     "output_type": "stream",
     "text": [
      "\n",
      "***Net Input of Hidden Layer****\n",
      " tensor([[-1.5588, -2.5015, -0.9606,  2.6489,  3.7253],\n",
      "        [-1.5572, -2.4988, -0.9604,  2.6461,  3.7222],\n",
      "        [-1.5557, -2.4962, -0.9602,  2.6432,  3.7190],\n",
      "        ...,\n",
      "        [ 1.5411,  2.8723, -0.6396, -2.9686, -2.5156],\n",
      "        [ 1.5427,  2.8750, -0.6395, -2.9714, -2.5187],\n",
      "        [ 1.5442,  2.8777, -0.6393, -2.9743, -2.5218]],\n",
      "       grad_fn=<AddmmBackward>)\n",
      "Size :  torch.Size([2000, 5])\n",
      "\n",
      "***Hidden Layer Output****\n",
      " tensor([[0.0000, 0.0000, 0.0000, 2.6489, 3.7253],\n",
      "        [0.0000, 0.0000, 0.0000, 2.6461, 3.7222],\n",
      "        [0.0000, 0.0000, 0.0000, 2.6432, 3.7190],\n",
      "        ...,\n",
      "        [1.5411, 2.8723, 0.0000, 0.0000, 0.0000],\n",
      "        [1.5427, 2.8750, 0.0000, 0.0000, 0.0000],\n",
      "        [1.5442, 2.8777, 0.0000, 0.0000, 0.0000]], grad_fn=<ReluBackward0>)\n",
      "Size :  torch.Size([2000, 5])\n",
      "\n",
      "\n",
      "***Predicted Value****\n",
      " tensor([[-1.0620],\n",
      "        [-1.0608],\n",
      "        [-1.0596],\n",
      "        ...,\n",
      "        [ 0.6212],\n",
      "        [ 0.6214],\n",
      "        [ 0.6217]], grad_fn=<AddmmBackward>)\n",
      "Size :  torch.Size([2000, 1])\n",
      "Loss =  tensor(0.1792, grad_fn=<MseLossBackward>)\n",
      "Epoch : 0, loss : 0.17921480536460876\n",
      "\n",
      "*** Before backward Propogation***\n",
      "\n",
      "\n",
      "Hidden-weight\n",
      " Parameter containing:\n",
      "tensor([[ 0.4939],\n",
      "        [ 0.8561],\n",
      "        [ 0.0511],\n",
      "        [-0.8949],\n",
      "        [-0.9943]], requires_grad=True) \n",
      "Hidden-bias\n",
      " Parameter containing:\n",
      "tensor([-0.0073,  0.1881, -0.7999, -0.1627,  0.6017], requires_grad=True)\n",
      "\n",
      "Hidden-weight-grad\n",
      " tensor([[0.],\n",
      "        [0.],\n",
      "        [0.],\n",
      "        [0.],\n",
      "        [0.]]) \n",
      "Hidden-bias-grad\n",
      " tensor([0., 0., 0., 0., 0.])\n",
      "\n",
      "Output-weight\n",
      " Parameter containing:\n",
      "tensor([[-0.1048,  0.1531, -0.3294, -0.0276, -0.3575]], requires_grad=True) \\Output-bias\n",
      " Parameter containing:\n",
      "tensor([0.3429], requires_grad=True)\n",
      "\n",
      "Output-weight-grad\n",
      " tensor([[0., 0., 0., 0., 0.]]) \n",
      "Output-bias-grad\n",
      " tensor([0.])\n",
      "\n",
      "*** After backward Propogation***\n",
      "\n",
      "\n",
      "Hidden-weight\n",
      " Parameter containing:\n",
      "tensor([[ 0.4939],\n",
      "        [ 0.8561],\n",
      "        [ 0.0511],\n",
      "        [-0.8949],\n",
      "        [-0.9943]], requires_grad=True) \n",
      "Hidden-bias\n",
      " Parameter containing:\n",
      "tensor([-0.0073,  0.1881, -0.7999, -0.1627,  0.6017], requires_grad=True)\n",
      "\n",
      "Hidden-weight-grad\n",
      " tensor([[ 0.0165],\n",
      "        [-0.0243],\n",
      "        [ 0.0000],\n",
      "        [-0.0013],\n",
      "        [-0.0147]]) \n",
      "Hidden-bias-grad\n",
      " tensor([ 0.0168, -0.0222,  0.0000, -0.0044, -0.0612])\n",
      "\n",
      "Output-weight\n",
      " Parameter containing:\n",
      "tensor([[-0.1048,  0.1531, -0.3294, -0.0276, -0.3575]], requires_grad=True) \\Output-bias\n",
      " Parameter containing:\n",
      "tensor([0.3429], requires_grad=True)\n",
      "\n",
      "Output-weight-grad\n",
      " tensor([[-0.0764, -0.1633,  0.0000, -0.0668,  0.0621]]) \n",
      "Output-bias-grad\n",
      " tensor([0.0122])\n",
      "\n",
      "*** After changing weigths***\n",
      "\n",
      "\n",
      "Hidden-weight\n",
      " Parameter containing:\n",
      "tensor([[ 0.4922],\n",
      "        [ 0.8586],\n",
      "        [ 0.0511],\n",
      "        [-0.8948],\n",
      "        [-0.9928]], requires_grad=True) \n",
      "Hidden-bias\n",
      " Parameter containing:\n",
      "tensor([-0.0090,  0.1903, -0.7999, -0.1623,  0.6079], requires_grad=True)\n",
      "\n",
      "Hidden-weight-grad\n",
      " tensor([[ 0.0165],\n",
      "        [-0.0243],\n",
      "        [ 0.0000],\n",
      "        [-0.0013],\n",
      "        [-0.0147]]) \n",
      "Hidden-bias-grad\n",
      " tensor([ 0.0168, -0.0222,  0.0000, -0.0044, -0.0612])\n",
      "\n",
      "Output-weight\n",
      " Parameter containing:\n",
      "tensor([[-0.0972,  0.1694, -0.3294, -0.0209, -0.3637]], requires_grad=True) \\Output-bias\n",
      " Parameter containing:\n",
      "tensor([0.3417], requires_grad=True)\n",
      "\n",
      "Output-weight-grad\n",
      " tensor([[-0.0764, -0.1633,  0.0000, -0.0668,  0.0621]]) \n",
      "Output-bias-grad\n",
      " tensor([0.0122])\n"
     ]
    }
   ],
   "source": [
    "for epoch in range(epochs):\n",
    "    optimizer.zero_grad()    \n",
    "    \n",
    "    #Forward pass\n",
    "    output = model(x_train)\n",
    "    \n",
    "    #Calculate the loss\n",
    "    loss = criterion(y_train, output)\n",
    "    print(\"Loss = \",loss)\n",
    "    \n",
    "    if epoch%50 == 0:\n",
    "        print(f\"Epoch : {epoch}, loss : {loss.item()}\")\n",
    "        \n",
    "    print(\"\\n*** Before backward Propogation***\\n\")\n",
    "    print(\"\\nHidden-weight\\n\",model.hiddenL.weight, \"\\nHidden-bias\\n\", model.hiddenL.bias)\n",
    "    print(\"\\nHidden-weight-grad\\n\",model.hiddenL.weight.grad, \"\\nHidden-bias-grad\\n\",model.hiddenL.bias.grad)\n",
    "    print(\"\\nOutput-weight\\n\",model.outputL.weight, \"\\Output-bias\\n\", model.outputL.bias)\n",
    "    print(\"\\nOutput-weight-grad\\n\",model.outputL.weight.grad, \"\\nOutput-bias-grad\\n\",model.outputL.bias.grad)\n",
    "\n",
    "    #Backpropagate \n",
    "    loss.backward()\n",
    "    \n",
    "    print(\"\\n*** After backward Propogation***\\n\")\n",
    "    print(\"\\nHidden-weight\\n\",model.hiddenL.weight, \"\\nHidden-bias\\n\", model.hiddenL.bias)\n",
    "    print(\"\\nHidden-weight-grad\\n\",model.hiddenL.weight.grad, \"\\nHidden-bias-grad\\n\",model.hiddenL.bias.grad)\n",
    "    print(\"\\nOutput-weight\\n\",model.outputL.weight, \"\\Output-bias\\n\", model.outputL.bias)\n",
    "    print(\"\\nOutput-weight-grad\\n\",model.outputL.weight.grad, \"\\nOutput-bias-grad\\n\",model.outputL.bias.grad)\n",
    "\n",
    "    #Update weights\n",
    "    optimizer.step()\n",
    "    \n",
    "    print(\"\\n*** After changing weigths***\\n\")\n",
    "    print(\"\\nHidden-weight\\n\",model.hiddenL.weight, \"\\nHidden-bias\\n\", model.hiddenL.bias)\n",
    "    print(\"\\nHidden-weight-grad\\n\",model.hiddenL.weight.grad, \"\\nHidden-bias-grad\\n\",model.hiddenL.bias.grad)\n",
    "    print(\"\\nOutput-weight\\n\",model.outputL.weight, \"\\Output-bias\\n\", model.outputL.bias)\n",
    "    print(\"\\nOutput-weight-grad\\n\",model.outputL.weight.grad, \"\\nOutput-bias-grad\\n\",model.outputL.bias.grad)\n"
   ]
  },
  {
   "cell_type": "code",
   "execution_count": 73,
   "id": "256580c4",
   "metadata": {},
   "outputs": [],
   "source": [
    "torch.save(model,\"D:\\\\python code\\\\pytorch_learn\\\\firstModel.pt\")"
   ]
  },
  {
   "cell_type": "code",
   "execution_count": 100,
   "id": "bf4fc479",
   "metadata": {},
   "outputs": [
    {
     "name": "stdout",
     "output_type": "stream",
     "text": [
      "\n",
      "***Net Input of Hidden Layer****\n",
      " tensor([-1.0911, -1.6974, -0.9123,  1.8051,  2.7906], grad_fn=<AddBackward0>)\n",
      "Size :  torch.Size([5])\n",
      "\n",
      "***Hidden Layer Output****\n",
      " tensor([0.0000, 0.0000, 0.0000, 1.8051, 2.7906], grad_fn=<ReluBackward0>)\n",
      "Size :  torch.Size([5])\n",
      "\n",
      "\n",
      "***Predicted Value****\n",
      " tensor([-0.7110], grad_fn=<AddBackward0>)\n",
      "Size :  torch.Size([1])\n",
      "<class 'torch.Tensor'> tensor([-0.7110], grad_fn=<AddBackward0>) tensor([-0.8093])\n"
     ]
    }
   ],
   "source": [
    "model = torch.load(\"firstModel.pt\")\n",
    "model.eval()\n",
    "ypred = model(torch.Tensor(x_train[300]))\n",
    "print(type(x_train[300]), ypred, torch.sin(x_train[300]))"
   ]
  },
  {
   "cell_type": "code",
   "execution_count": 98,
   "id": "5bd83e62",
   "metadata": {},
   "outputs": [
    {
     "name": "stdout",
     "output_type": "stream",
     "text": [
      "\n",
      "***Net Input of Hidden Layer****\n",
      " tensor([[-1.5553, -2.5070, -0.9606,  2.6489,  3.7268],\n",
      "        [-1.5537, -2.5043, -0.9604,  2.6461,  3.7237],\n",
      "        [-1.5522, -2.5016, -0.9602,  2.6433,  3.7206],\n",
      "        ...,\n",
      "        [ 1.5343,  2.8821, -0.6396, -2.9678, -2.5049],\n",
      "        [ 1.5358,  2.8848, -0.6395, -2.9706, -2.5080],\n",
      "        [ 1.5374,  2.8875, -0.6393, -2.9734, -2.5111]],\n",
      "       grad_fn=<AddmmBackward>)\n",
      "Size :  torch.Size([2000, 5])\n",
      "\n",
      "***Hidden Layer Output****\n",
      " tensor([[0.0000, 0.0000, 0.0000, 2.6489, 3.7268],\n",
      "        [0.0000, 0.0000, 0.0000, 2.6461, 3.7237],\n",
      "        [0.0000, 0.0000, 0.0000, 2.6433, 3.7206],\n",
      "        ...,\n",
      "        [1.5343, 2.8821, 0.0000, 0.0000, 0.0000],\n",
      "        [1.5358, 2.8848, 0.0000, 0.0000, 0.0000],\n",
      "        [1.5374, 2.8875, 0.0000, 0.0000, 0.0000]], grad_fn=<ReluBackward0>)\n",
      "Size :  torch.Size([2000, 5])\n",
      "\n",
      "\n",
      "***Predicted Value****\n",
      " tensor([[-1.0692],\n",
      "        [-1.0680],\n",
      "        [-1.0668],\n",
      "        ...,\n",
      "        [ 0.6810],\n",
      "        [ 0.6813],\n",
      "        [ 0.6816]], grad_fn=<AddmmBackward>)\n",
      "Size :  torch.Size([2000, 1])\n",
      "tensor(-2.1986) tensor([[-1.0692],\n",
      "        [-1.0680],\n",
      "        [-1.0668],\n",
      "        ...,\n",
      "        [ 0.6810],\n",
      "        [ 0.6813],\n",
      "        [ 0.6816]], grad_fn=<AddmmBackward>) tensor(-0.8093)\n"
     ]
    }
   ],
   "source": [
    "model = torch.load(\"firstModel.pt\")\n",
    "model.eval()\n",
    "ypred = model(x_train)\n",
    "print(x[300], ypred, torch.sin(x[300]))"
   ]
  },
  {
   "cell_type": "code",
   "execution_count": 75,
   "id": "cff20499",
   "metadata": {},
   "outputs": [
    {
     "name": "stdout",
     "output_type": "stream",
     "text": [
      "\n",
      "***Net Input of Hidden Layer****\n",
      " tensor([[-1.5553, -2.5070, -0.9606,  2.6489,  3.7268],\n",
      "        [-1.5537, -2.5043, -0.9604,  2.6461,  3.7237],\n",
      "        [-1.5522, -2.5016, -0.9602,  2.6433,  3.7206],\n",
      "        ...,\n",
      "        [ 1.5343,  2.8821, -0.6396, -2.9678, -2.5049],\n",
      "        [ 1.5358,  2.8848, -0.6395, -2.9706, -2.5080],\n",
      "        [ 1.5374,  2.8875, -0.6393, -2.9734, -2.5111]],\n",
      "       grad_fn=<AddmmBackward>)\n",
      "Size :  torch.Size([2000, 5])\n",
      "\n",
      "***Hidden Layer Output****\n",
      " tensor([[0.0000, 0.0000, 0.0000, 2.6489, 3.7268],\n",
      "        [0.0000, 0.0000, 0.0000, 2.6461, 3.7237],\n",
      "        [0.0000, 0.0000, 0.0000, 2.6433, 3.7206],\n",
      "        ...,\n",
      "        [1.5343, 2.8821, 0.0000, 0.0000, 0.0000],\n",
      "        [1.5358, 2.8848, 0.0000, 0.0000, 0.0000],\n",
      "        [1.5374, 2.8875, 0.0000, 0.0000, 0.0000]], grad_fn=<ReluBackward0>)\n",
      "Size :  torch.Size([2000, 5])\n",
      "\n",
      "\n",
      "***Predicted Value****\n",
      " tensor([[-1.0692],\n",
      "        [-1.0680],\n",
      "        [-1.0668],\n",
      "        ...,\n",
      "        [ 0.6810],\n",
      "        [ 0.6813],\n",
      "        [ 0.6816]], grad_fn=<AddmmBackward>)\n",
      "Size :  torch.Size([2000, 1])\n",
      "<class 'numpy.ndarray'>\n",
      "(2000, 1) <class 'numpy.ndarray'>\n"
     ]
    },
    {
     "data": {
      "image/png": "[encoded data removed]",
      "text/plain": [
       "<Figure size 640x480 with 1 Axes>"
      ]
     },
     "metadata": {},
     "output_type": "display_data"
    }
   ],
   "source": [
    "import matplotlib.pyplot as plt\n",
    "predicted = model(x_train).data.numpy()\n",
    "print(type(predicted))\n",
    "print(predicted.shape, type(predicted))\n",
    "    \n",
    "plt.clf()\n",
    "plt.plot(x_train, y_train, 'go', label='True data', alpha=0.5)\n",
    "plt.plot(x_train, predicted, '--', label='Predictions', alpha=0.5)\n",
    "plt.legend(loc='best')\n",
    "plt.show()"
   ]
  },
  {
   "cell_type": "code",
   "execution_count": 13,
   "id": "a949987d",
   "metadata": {},
   "outputs": [
    {
     "name": "stdout",
     "output_type": "stream",
     "text": [
      "SimpleAnn(\n",
      "  (hiddenL): Linear(in_features=1, out_features=10, bias=True)\n",
      "  (linear2): Linear(in_features=10, out_features=10, bias=True)\n",
      "  (linear3): Linear(in_features=10, out_features=1, bias=True)\n",
      ")\n"
     ]
    }
   ],
   "source": [
    "hidden_nodes = 10\n",
    "class SimpleAnn(torch.nn.Module):\n",
    "    \n",
    "    def __init__(self):\n",
    "        super().__init__()\n",
    "        self.hiddenL = torch.nn.Linear(1,hidden_nodes)\n",
    "        self.linear2 = torch.nn.Linear(hidden_nodes,hidden_nodes)\n",
    "        self.linear3 = torch.nn.Linear(hidden_nodes,1)\n",
    "    \n",
    "    def forward(self,x):\n",
    "        l1 = self.linear1(x)\n",
    "        h1 = torch.relu(l1)\n",
    "        l2 = self.linear2(h1)\n",
    "        obj_relu = torch.nn.ReLU()\n",
    "        h2 = obj_relu(l2)\n",
    "        h3 = self.linear3(h2)\n",
    "        return h3\n",
    "        \n",
    "model = SimpleAnn()\n",
    "print(model)"
   ]
  },
  {
   "cell_type": "code",
   "execution_count": null,
   "id": "a00eaa9a",
   "metadata": {},
   "outputs": [],
   "source": []
  }
 ],
 "metadata": {
  "kernelspec": {
   "display_name": "Python 3 (ipykernel)",
   "language": "python",
   "name": "python3"
  },
  "language_info": {
   "codemirror_mode": {
    "name": "ipython",
    "version": 3
   },
   "file_extension": ".py",
   "mimetype": "text/x-python",
   "name": "python",
   "nbconvert_exporter": "python",
   "pygments_lexer": "ipython3",
   "version": "3.8.2"
  }
 },
 "nbformat": 4,
 "nbformat_minor": 5
}
