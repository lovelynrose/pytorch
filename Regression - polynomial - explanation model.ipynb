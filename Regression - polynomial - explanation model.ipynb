{
 "cells": [
  {
   "cell_type": "code",
   "execution_count": 1,
   "id": "3e731c52",
   "metadata": {},
   "outputs": [],
   "source": [
    "import torch\n",
    "import math"
   ]
  },
  {
   "cell_type": "code",
   "execution_count": 2,
   "id": "56745f08",
   "metadata": {},
   "outputs": [
    {
     "name": "stdout",
     "output_type": "stream",
     "text": [
      "tensor([-3.1416, -3.1384, -3.1353,  ...,  3.1353,  3.1384,  3.1416]) tensor([ 8.7423e-08, -3.1430e-03, -6.2863e-03,  ...,  6.2863e-03,\n",
      "         3.1432e-03, -8.7423e-08])\n"
     ]
    }
   ],
   "source": [
    "x = torch.linspace(-math.pi, math.pi, 2000, dtype = torch.float32, device = \"cpu\")\n",
    "y = torch.sin(x)\n",
    "print(x,y)"
   ]
  },
  {
   "cell_type": "code",
   "execution_count": 3,
   "id": "325fd47e",
   "metadata": {},
   "outputs": [
    {
     "name": "stdout",
     "output_type": "stream",
     "text": [
      "torch.Size([2000, 1]) torch.Size([2000])\n",
      "torch.Size([2000, 1]) torch.Size([2000])\n"
     ]
    }
   ],
   "source": [
    "x_train = x.reshape(-1,1)\n",
    "y_train = torch.reshape(y,(-1,1))\n",
    "print(x_train.shape, x.shape)\n",
    "print(y_train.shape, y.shape)"
   ]
  },
  {
   "cell_type": "code",
   "execution_count": 4,
   "id": "0f613c5e",
   "metadata": {},
   "outputs": [
    {
     "name": "stdout",
     "output_type": "stream",
     "text": [
      "SimpleAnn(\n",
      "  (hiddenL): Linear(in_features=1, out_features=5, bias=True)\n",
      "  (outputL): Linear(in_features=5, out_features=1, bias=True)\n",
      ")\n"
     ]
    }
   ],
   "source": [
    "hidden_nodes = 5\n",
    "class SimpleAnn(torch.nn.Module):\n",
    "    \n",
    "    def __init__(self):\n",
    "        super().__init__()\n",
    "        self.hiddenL = torch.nn.Linear(1,hidden_nodes)\n",
    "        self.outputL = torch.nn.Linear(hidden_nodes,1)\n",
    "    \n",
    "    def forward(self,x):\n",
    "        l1 = self.hiddenL(x)\n",
    "        print(\"\\n***Net Input of Hidden Layer****\\n\",l1)\n",
    "        print(\"Size : \",l1.shape)\n",
    "        h1 = torch.relu(l1)\n",
    "        print(\"\\n***Hidden Layer Output****\\n\",h1)\n",
    "        print(\"Size : \",h1.shape)\n",
    "        l2 = self.outputL(h1)\n",
    "        print(\"\\n\\n***Predicted Value****\\n\",l2)\n",
    "        print(\"Size : \",l2.shape)\n",
    "        return l2\n",
    "        \n",
    "model = SimpleAnn()\n",
    "print(model)"
   ]
  },
  {
   "cell_type": "code",
   "execution_count": 5,
   "id": "96af073a",
   "metadata": {},
   "outputs": [],
   "source": [
    "criterion = torch.nn.MSELoss()\n",
    "optimizer = torch.optim.SGD(model.parameters(), lr=10e-2)\n",
    "epochs = 1"
   ]
  },
  {
   "cell_type": "code",
   "execution_count": 6,
   "id": "bdee86df",
   "metadata": {},
   "outputs": [
    {
     "name": "stdout",
     "output_type": "stream",
     "text": [
      "\n",
      "***Net Input of Hidden Layer****\n",
      " tensor([[ 0.5990,  0.9115, -1.5576,  1.1018,  1.7347],\n",
      "        [ 0.5983,  0.9100, -1.5567,  1.1005,  1.7338],\n",
      "        [ 0.5976,  0.9086, -1.5557,  1.0993,  1.7330],\n",
      "        ...,\n",
      "        [-0.8054, -1.9777,  0.3493, -1.3867,  0.0284],\n",
      "        [-0.8061, -1.9792,  0.3503, -1.3880,  0.0275],\n",
      "        [-0.8068, -1.9806,  0.3512, -1.3892,  0.0267]],\n",
      "       grad_fn=<AddmmBackward>)\n",
      "Size :  torch.Size([2000, 5])\n",
      "\n",
      "***Hidden Layer Output****\n",
      " tensor([[0.5990, 0.9115, 0.0000, 1.1018, 1.7347],\n",
      "        [0.5983, 0.9100, 0.0000, 1.1005, 1.7338],\n",
      "        [0.5976, 0.9086, 0.0000, 1.0993, 1.7330],\n",
      "        ...,\n",
      "        [0.0000, 0.0000, 0.3493, 0.0000, 0.0284],\n",
      "        [0.0000, 0.0000, 0.3503, 0.0000, 0.0275],\n",
      "        [0.0000, 0.0000, 0.3512, 0.0000, 0.0267]], grad_fn=<ReluBackward0>)\n",
      "Size :  torch.Size([2000, 5])\n",
      "\n",
      "\n",
      "***Predicted Value****\n",
      " tensor([[-0.6554],\n",
      "        [-0.6551],\n",
      "        [-0.6547],\n",
      "        ...,\n",
      "        [ 0.1039],\n",
      "        [ 0.1045],\n",
      "        [ 0.1051]], grad_fn=<AddmmBackward>)\n",
      "Size :  torch.Size([2000, 1])\n",
      "Loss =  tensor(0.4308, grad_fn=<MseLossBackward>)\n",
      "Epoch : 0, loss : 0.43082451820373535\n",
      "\n",
      "*** Before backward Propogation***\n",
      "\n",
      "\n",
      "Hidden-weight\n",
      " Parameter containing:\n",
      "tensor([[-0.2237],\n",
      "        [-0.4603],\n",
      "        [ 0.3038],\n",
      "        [-0.3964],\n",
      "        [-0.2718]], requires_grad=True) \n",
      "Hidden-bias\n",
      " Parameter containing:\n",
      "tensor([-0.1039, -0.5346, -0.6032, -0.1437,  0.8807], requires_grad=True)\n",
      "\n",
      "Hidden-weight-grad\n",
      " None \n",
      "Hidden-bias-grad\n",
      " None\n",
      "\n",
      "Output-weight\n",
      " Parameter containing:\n",
      "tensor([[ 0.3351, -0.0261,  0.3386, -0.1785, -0.3641]], requires_grad=True) \\Output-bias\n",
      " Parameter containing:\n",
      "tensor([-0.0040], requires_grad=True)\n",
      "\n",
      "Output-weight-grad\n",
      " None \n",
      "Output-bias-grad\n",
      " None\n",
      "\n",
      "*** After backward Propogation***\n",
      "\n",
      "\n",
      "Hidden-weight\n",
      " Parameter containing:\n",
      "tensor([[-0.2237],\n",
      "        [-0.4603],\n",
      "        [ 0.3038],\n",
      "        [-0.3964],\n",
      "        [-0.2718]], requires_grad=True) \n",
      "Hidden-bias\n",
      " Parameter containing:\n",
      "tensor([-0.1039, -0.5346, -0.6032, -0.1437,  0.8807], requires_grad=True)\n",
      "\n",
      "Hidden-weight-grad\n",
      " tensor([[-0.0490],\n",
      "        [ 0.0023],\n",
      "        [-0.1542],\n",
      "        [ 0.0262],\n",
      "        [ 0.4616]]) \n",
      "Hidden-bias-grad\n",
      " tensor([ 0.0552, -0.0026, -0.0656, -0.0296,  0.2318])\n",
      "\n",
      "Output-weight\n",
      " Parameter containing:\n",
      "tensor([[ 0.3351, -0.0261,  0.3386, -0.1785, -0.3641]], requires_grad=True) \\Output-bias\n",
      " Parameter containing:\n",
      "tensor([-0.0040], requires_grad=True)\n",
      "\n",
      "Output-weight-grad\n",
      " tensor([[ 0.0156, -0.0126, -0.0215,  0.0343, -0.2160]]) \n",
      "Output-bias-grad\n",
      " tensor([-0.6365])\n",
      "\n",
      "*** After changing weigths***\n",
      "\n",
      "\n",
      "Hidden-weight\n",
      " Parameter containing:\n",
      "tensor([[-0.2188],\n",
      "        [-0.4605],\n",
      "        [ 0.3192],\n",
      "        [-0.3991],\n",
      "        [-0.3180]], requires_grad=True) \n",
      "Hidden-bias\n",
      " Parameter containing:\n",
      "tensor([-0.1095, -0.5343, -0.5966, -0.1408,  0.8575], requires_grad=True)\n",
      "\n",
      "Hidden-weight-grad\n",
      " tensor([[-0.0490],\n",
      "        [ 0.0023],\n",
      "        [-0.1542],\n",
      "        [ 0.0262],\n",
      "        [ 0.4616]]) \n",
      "Hidden-bias-grad\n",
      " tensor([ 0.0552, -0.0026, -0.0656, -0.0296,  0.2318])\n",
      "\n",
      "Output-weight\n",
      " Parameter containing:\n",
      "tensor([[ 0.3336, -0.0248,  0.3407, -0.1819, -0.3426]], requires_grad=True) \\Output-bias\n",
      " Parameter containing:\n",
      "tensor([0.0596], requires_grad=True)\n",
      "\n",
      "Output-weight-grad\n",
      " tensor([[ 0.0156, -0.0126, -0.0215,  0.0343, -0.2160]]) \n",
      "Output-bias-grad\n",
      " tensor([-0.6365])\n"
     ]
    }
   ],
   "source": [
    "for epoch in range(epochs):\n",
    "    optimizer.zero_grad()    \n",
    "    \n",
    "    #Forward pass\n",
    "    output = model(x_train)\n",
    "    \n",
    "    #Calculate the loss\n",
    "    loss = criterion(y_train, output)\n",
    "    print(\"Loss = \",loss)\n",
    "    \n",
    "    if epoch%50 == 0:\n",
    "        print(f\"Epoch : {epoch}, loss : {loss.item()}\")\n",
    "        \n",
    "    print(\"\\n*** Before backward Propogation***\\n\")\n",
    "    print(\"\\nHidden-weight\\n\",model.hiddenL.weight, \"\\nHidden-bias\\n\", model.hiddenL.bias)\n",
    "    print(\"\\nHidden-weight-grad\\n\",model.hiddenL.weight.grad, \"\\nHidden-bias-grad\\n\",model.hiddenL.bias.grad)\n",
    "    print(\"\\nOutput-weight\\n\",model.outputL.weight, \"\\Output-bias\\n\", model.outputL.bias)\n",
    "    print(\"\\nOutput-weight-grad\\n\",model.outputL.weight.grad, \"\\nOutput-bias-grad\\n\",model.outputL.bias.grad)\n",
    "\n",
    "    #Backpropagate \n",
    "    loss.backward()\n",
    "    \n",
    "    print(\"\\n*** After backward Propogation***\\n\")\n",
    "    print(\"\\nHidden-weight\\n\",model.hiddenL.weight, \"\\nHidden-bias\\n\", model.hiddenL.bias)\n",
    "    print(\"\\nHidden-weight-grad\\n\",model.hiddenL.weight.grad, \"\\nHidden-bias-grad\\n\",model.hiddenL.bias.grad)\n",
    "    print(\"\\nOutput-weight\\n\",model.outputL.weight, \"\\Output-bias\\n\", model.outputL.bias)\n",
    "    print(\"\\nOutput-weight-grad\\n\",model.outputL.weight.grad, \"\\nOutput-bias-grad\\n\",model.outputL.bias.grad)\n",
    "\n",
    "    #Update weights\n",
    "    optimizer.step()\n",
    "    \n",
    "    print(\"\\n*** After changing weigths***\\n\")\n",
    "    print(\"\\nHidden-weight\\n\",model.hiddenL.weight, \"\\nHidden-bias\\n\", model.hiddenL.bias)\n",
    "    print(\"\\nHidden-weight-grad\\n\",model.hiddenL.weight.grad, \"\\nHidden-bias-grad\\n\",model.hiddenL.bias.grad)\n",
    "    print(\"\\nOutput-weight\\n\",model.outputL.weight, \"\\Output-bias\\n\", model.outputL.bias)\n",
    "    print(\"\\nOutput-weight-grad\\n\",model.outputL.weight.grad, \"\\nOutput-bias-grad\\n\",model.outputL.bias.grad)\n"
   ]
  },
  {
   "cell_type": "code",
   "execution_count": 7,
   "id": "256580c4",
   "metadata": {},
   "outputs": [],
   "source": [
    "torch.save(model,\"firstModel.pt\")"
   ]
  },
  {
   "cell_type": "code",
   "execution_count": 8,
   "id": "bf4fc479",
   "metadata": {},
   "outputs": [
    {
     "name": "stdout",
     "output_type": "stream",
     "text": [
      "\n",
      "***Net Input of Hidden Layer****\n",
      " tensor([ 0.3717,  0.4782, -1.2985,  0.7366,  1.5567], grad_fn=<AddBackward0>)\n",
      "Size :  torch.Size([5])\n",
      "\n",
      "***Hidden Layer Output****\n",
      " tensor([0.3717, 0.4782, 0.0000, 0.7366, 1.5567], grad_fn=<ReluBackward0>)\n",
      "Size :  torch.Size([5])\n",
      "\n",
      "\n",
      "***Predicted Value****\n",
      " tensor([-0.4955], grad_fn=<AddBackward0>)\n",
      "Size :  torch.Size([1])\n",
      "<class 'torch.Tensor'> tensor([-0.4955], grad_fn=<AddBackward0>) tensor([-0.8093])\n"
     ]
    }
   ],
   "source": [
    "model = torch.load(\"firstModel.pt\")\n",
    "model.eval()\n",
    "ypred = model(torch.Tensor(x_train[300]))\n",
    "print(type(x_train[300]), ypred, torch.sin(x_train[300]))"
   ]
  },
  {
   "cell_type": "code",
   "execution_count": 9,
   "id": "5bd83e62",
   "metadata": {},
   "outputs": [
    {
     "name": "stdout",
     "output_type": "stream",
     "text": [
      "\n",
      "***Net Input of Hidden Layer****\n",
      " tensor([[ 0.5781,  0.9124, -1.5995,  1.1129,  1.8565],\n",
      "        [ 0.5774,  0.9110, -1.5985,  1.1117,  1.8555],\n",
      "        [ 0.5767,  0.9095, -1.5975,  1.1104,  1.8545],\n",
      "        ...,\n",
      "        [-0.7956, -1.9782,  0.4042, -1.3919, -0.1395],\n",
      "        [-0.7963, -1.9796,  0.4052, -1.3932, -0.1405],\n",
      "        [-0.7970, -1.9811,  0.4062, -1.3945, -0.1415]],\n",
      "       grad_fn=<AddmmBackward>)\n",
      "Size :  torch.Size([2000, 5])\n",
      "\n",
      "***Hidden Layer Output****\n",
      " tensor([[0.5781, 0.9124, 0.0000, 1.1129, 1.8565],\n",
      "        [0.5774, 0.9110, 0.0000, 1.1117, 1.8555],\n",
      "        [0.5767, 0.9095, 0.0000, 1.1104, 1.8545],\n",
      "        ...,\n",
      "        [0.0000, 0.0000, 0.4042, 0.0000, 0.0000],\n",
      "        [0.0000, 0.0000, 0.4052, 0.0000, 0.0000],\n",
      "        [0.0000, 0.0000, 0.4062, 0.0000, 0.0000]], grad_fn=<ReluBackward0>)\n",
      "Size :  torch.Size([2000, 5])\n",
      "\n",
      "\n",
      "***Predicted Value****\n",
      " tensor([[-0.6086],\n",
      "        [-0.6082],\n",
      "        [-0.6079],\n",
      "        ...,\n",
      "        [ 0.1973],\n",
      "        [ 0.1977],\n",
      "        [ 0.1980]], grad_fn=<AddmmBackward>)\n",
      "Size :  torch.Size([2000, 1])\n",
      "tensor(-2.1986) tensor([[-0.6086],\n",
      "        [-0.6082],\n",
      "        [-0.6079],\n",
      "        ...,\n",
      "        [ 0.1973],\n",
      "        [ 0.1977],\n",
      "        [ 0.1980]], grad_fn=<AddmmBackward>) tensor(-0.8093)\n"
     ]
    }
   ],
   "source": [
    "model = torch.load(\"firstModel.pt\")\n",
    "model.eval()\n",
    "ypred = model(x_train)\n",
    "print(x[300], ypred, torch.sin(x[300]))"
   ]
  },
  {
   "cell_type": "code",
   "execution_count": null,
   "id": "de3ccb69",
   "metadata": {},
   "outputs": [],
   "source": []
  },
  {
   "cell_type": "code",
   "execution_count": 10,
   "id": "cff20499",
   "metadata": {},
   "outputs": [
    {
     "name": "stdout",
     "output_type": "stream",
     "text": [
      "\n",
      "***Net Input of Hidden Layer****\n",
      " tensor([[ 0.5781,  0.9124, -1.5995,  1.1129,  1.8565],\n",
      "        [ 0.5774,  0.9110, -1.5985,  1.1117,  1.8555],\n",
      "        [ 0.5767,  0.9095, -1.5975,  1.1104,  1.8545],\n",
      "        ...,\n",
      "        [-0.7956, -1.9782,  0.4042, -1.3919, -0.1395],\n",
      "        [-0.7963, -1.9796,  0.4052, -1.3932, -0.1405],\n",
      "        [-0.7970, -1.9811,  0.4062, -1.3945, -0.1415]],\n",
      "       grad_fn=<AddmmBackward>)\n",
      "Size :  torch.Size([2000, 5])\n",
      "\n",
      "***Hidden Layer Output****\n",
      " tensor([[0.5781, 0.9124, 0.0000, 1.1129, 1.8565],\n",
      "        [0.5774, 0.9110, 0.0000, 1.1117, 1.8555],\n",
      "        [0.5767, 0.9095, 0.0000, 1.1104, 1.8545],\n",
      "        ...,\n",
      "        [0.0000, 0.0000, 0.4042, 0.0000, 0.0000],\n",
      "        [0.0000, 0.0000, 0.4052, 0.0000, 0.0000],\n",
      "        [0.0000, 0.0000, 0.4062, 0.0000, 0.0000]], grad_fn=<ReluBackward0>)\n",
      "Size :  torch.Size([2000, 5])\n",
      "\n",
      "\n",
      "***Predicted Value****\n",
      " tensor([[-0.6086],\n",
      "        [-0.6082],\n",
      "        [-0.6079],\n",
      "        ...,\n",
      "        [ 0.1973],\n",
      "        [ 0.1977],\n",
      "        [ 0.1980]], grad_fn=<AddmmBackward>)\n",
      "Size :  torch.Size([2000, 1])\n",
      "<class 'numpy.ndarray'>\n",
      "(2000, 1) <class 'numpy.ndarray'>\n"
     ]
    },
    {
     "data": {
      "image/png": "[encoded data removed]",
      "text/plain": [
       "<Figure size 640x480 with 1 Axes>"
      ]
     },
     "metadata": {},
     "output_type": "display_data"
    }
   ],
   "source": [
    "import matplotlib.pyplot as plt\n",
    "predicted = model(x_train).data.numpy()\n",
    "print(type(predicted))\n",
    "print(predicted.shape, type(predicted))\n",
    "    \n",
    "plt.clf()\n",
    "plt.plot(x_train, y_train, 'go', label='True data', alpha=0.5)\n",
    "plt.plot(x_train, predicted, '--', label='Predictions', alpha=0.5)\n",
    "plt.legend(loc='best')\n",
    "plt.show()"
   ]
  },
  {
   "cell_type": "code",
   "execution_count": 11,
   "id": "a949987d",
   "metadata": {},
   "outputs": [
    {
     "name": "stdout",
     "output_type": "stream",
     "text": [
      "SimpleAnn(\n",
      "  (hiddenL): Linear(in_features=1, out_features=10, bias=True)\n",
      "  (linear2): Linear(in_features=10, out_features=10, bias=True)\n",
      "  (linear3): Linear(in_features=10, out_features=1, bias=True)\n",
      ")\n"
     ]
    }
   ],
   "source": [
    "hidden_nodes = 10\n",
    "class SimpleAnn(torch.nn.Module):\n",
    "    \n",
    "    def __init__(self):\n",
    "        super().__init__()\n",
    "        self.hiddenL = torch.nn.Linear(1,hidden_nodes)\n",
    "        self.linear2 = torch.nn.Linear(hidden_nodes,hidden_nodes)\n",
    "        self.linear3 = torch.nn.Linear(hidden_nodes,1)\n",
    "    \n",
    "    def forward(self,x):\n",
    "        l1 = self.linear1(x)\n",
    "        h1 = torch.relu(l1)\n",
    "        l2 = self.linear2(h1)\n",
    "        obj_relu = torch.nn.ReLU()\n",
    "        h2 = obj_relu(l2)\n",
    "        h3 = self.linear3(h2)\n",
    "        return h3\n",
    "        \n",
    "model = SimpleAnn()\n",
    "print(model)"
   ]
  },
  {
   "cell_type": "code",
   "execution_count": null,
   "id": "a00eaa9a",
   "metadata": {},
   "outputs": [],
   "source": []
  }
 ],
 "metadata": {
  "kernelspec": {
   "display_name": "Python 3 (ipykernel)",
   "language": "python",
   "name": "python3"
  },
  "language_info": {
   "codemirror_mode": {
    "name": "ipython",
    "version": 3
   },
   "file_extension": ".py",
   "mimetype": "text/x-python",
   "name": "python",
   "nbconvert_exporter": "python",
   "pygments_lexer": "ipython3",
   "version": "3.8.2"
  }
 },
 "nbformat": 4,
 "nbformat_minor": 5
}
